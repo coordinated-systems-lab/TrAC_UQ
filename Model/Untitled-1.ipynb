{
 "cells": [
  {
   "cell_type": "code",
   "execution_count": 11,
   "metadata": {},
   "outputs": [
    {
     "name": "stdout",
     "output_type": "stream",
     "text": [
      "[3 1 5 0 6 2 4]\n",
      "[0 6 2 4]\n",
      "Result: [5 6 8]\n"
     ]
    }
   ],
   "source": [
    "import numpy as np\n",
    "\n",
    "# Example arrays\n",
    "a = np.array([5, 2, 8, 1, 9, 4, 6])\n",
    "b = np.array([1, 3, 5])\n",
    "\n",
    "# Get sorted indices of array a\n",
    "sorted_indices = np.argsort(a)\n",
    "print(sorted_indices)\n",
    "\n",
    "# Apply the mask to sorted indices\n",
    "sorted_indices_excluded = sorted_indices[~np.isin(sorted_indices, b)]\n",
    "print(sorted_indices_excluded)\n",
    "\n",
    "# Select the first n elements\n",
    "n = 3\n",
    "result = a[sorted_indices_excluded[:n]]\n",
    "\n",
    "print(\"Result:\", result)\n"
   ]
  },
  {
   "cell_type": "code",
   "execution_count": 3,
   "metadata": {},
   "outputs": [
    {
     "data": {
      "text/plain": [
       "[5]"
      ]
     },
     "execution_count": 3,
     "metadata": {},
     "output_type": "execute_result"
    }
   ],
   "source": [
    "k = 5 \n",
    "p = [k]\n",
    "p"
   ]
  },
  {
   "cell_type": "code",
   "execution_count": null,
   "metadata": {},
   "outputs": [],
   "source": []
  }
 ],
 "metadata": {
  "kernelspec": {
   "display_name": "gpytorch",
   "language": "python",
   "name": "python3"
  },
  "language_info": {
   "codemirror_mode": {
    "name": "ipython",
    "version": 3
   },
   "file_extension": ".py",
   "mimetype": "text/x-python",
   "name": "python",
   "nbconvert_exporter": "python",
   "pygments_lexer": "ipython3",
   "version": "3.8.15"
  }
 },
 "nbformat": 4,
 "nbformat_minor": 2
}
